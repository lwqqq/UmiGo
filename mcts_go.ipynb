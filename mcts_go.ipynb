{
 "cells": [
  {
   "cell_type": "code",
   "execution_count": 12,
   "metadata": {},
   "outputs": [],
   "source": [
    "import numpy as np\n",
    "from keras.layers import Conv2D, Flatten\n",
    "from keras.models import Sequential\n",
    "from keras.layers import Dense\n",
    "\n",
    "np.random.seed(123)"
   ]
  },
  {
   "cell_type": "code",
   "execution_count": 13,
   "metadata": {},
   "outputs": [],
   "source": [
    "X = np.load('./model/features-200.npy')\n",
    "Y = np.load('./model/labels-200.npy')\n",
    "samples = X.shape[0]\n",
    "board_size = 9\n",
    "input_shape = (board_size, board_size, 1)"
   ]
  },
  {
   "cell_type": "code",
   "execution_count": 22,
   "metadata": {},
   "outputs": [],
   "source": [
    "X = X.reshape(samples, board_size, board_size, 1)"
   ]
  },
  {
   "cell_type": "code",
   "execution_count": 23,
   "metadata": {},
   "outputs": [],
   "source": [
    "train_samples = int(0.9 * samples)\n",
    "X_train, X_test = X[:train_samples], X[train_samples:]\n",
    "Y_train, Y_test = Y[:train_samples], Y[train_samples:]"
   ]
  },
  {
   "cell_type": "code",
   "execution_count": 24,
   "metadata": {},
   "outputs": [
    {
     "name": "stdout",
     "output_type": "stream",
     "text": [
      "Model: \"sequential_4\"\n",
      "_________________________________________________________________\n",
      "Layer (type)                 Output Shape              Param #   \n",
      "=================================================================\n",
      "conv2d_4 (Conv2D)            (None, 9, 9, 48)          480       \n",
      "_________________________________________________________________\n",
      "conv2d_5 (Conv2D)            (None, 9, 9, 48)          20784     \n",
      "_________________________________________________________________\n",
      "flatten_2 (Flatten)          (None, 3888)              0         \n",
      "_________________________________________________________________\n",
      "dense_4 (Dense)              (None, 512)               1991168   \n",
      "_________________________________________________________________\n",
      "dense_5 (Dense)              (None, 81)                41553     \n",
      "=================================================================\n",
      "Total params: 2,053,985\n",
      "Trainable params: 2,053,985\n",
      "Non-trainable params: 0\n",
      "_________________________________________________________________\n"
     ]
    }
   ],
   "source": [
    "model = Sequential()\n",
    "model.add(Conv2D(filters=48, kernel_size=(3,3), activation=\"sigmoid\", padding='same', input_shape=input_shape))\n",
    "model.add(Conv2D(filters=48, kernel_size=(3,3), activation=\"sigmoid\", padding='same'))\n",
    "\n",
    "model.add(Flatten())\n",
    "model.add(Dense(512, activation=\"sigmoid\"))\n",
    "model.add(Dense(board_size*board_size, activation=\"sigmoid\"))\n",
    "model.summary()"
   ]
  },
  {
   "cell_type": "code",
   "execution_count": 25,
   "metadata": {},
   "outputs": [],
   "source": [
    "model.compile(loss = 'mean_squared_error', \n",
    "             optimizer = 'sgd', \n",
    "             metrics = ['accuracy'])"
   ]
  },
  {
   "cell_type": "code",
   "execution_count": 26,
   "metadata": {},
   "outputs": [
    {
     "name": "stdout",
     "output_type": "stream",
     "text": [
      "Epoch 1/15\n",
      "165/165 [==============================] - 3s 20ms/step - loss: 0.1961 - accuracy: 0.0167 - val_loss: 0.1182 - val_accuracy: 0.0162\n",
      "Epoch 2/15\n",
      "165/165 [==============================] - 3s 18ms/step - loss: 0.0841 - accuracy: 0.0167 - val_loss: 0.0606 - val_accuracy: 0.0162\n",
      "Epoch 3/15\n",
      "165/165 [==============================] - 3s 19ms/step - loss: 0.0491 - accuracy: 0.0167 - val_loss: 0.0404 - val_accuracy: 0.0162\n",
      "Epoch 4/15\n",
      "165/165 [==============================] - 3s 20ms/step - loss: 0.0353 - accuracy: 0.0168 - val_loss: 0.0312 - val_accuracy: 0.0171\n",
      "Epoch 5/15\n",
      "165/165 [==============================] - 3s 18ms/step - loss: 0.0284 - accuracy: 0.0162 - val_loss: 0.0261 - val_accuracy: 0.0162\n",
      "Epoch 6/15\n",
      "165/165 [==============================] - 3s 20ms/step - loss: 0.0244 - accuracy: 0.0167 - val_loss: 0.0229 - val_accuracy: 0.0162\n",
      "Epoch 7/15\n",
      "165/165 [==============================] - 3s 18ms/step - loss: 0.0218 - accuracy: 0.0167 - val_loss: 0.0209 - val_accuracy: 0.0162\n",
      "Epoch 8/15\n",
      "165/165 [==============================] - 3s 19ms/step - loss: 0.0201 - accuracy: 0.0167 - val_loss: 0.0194 - val_accuracy: 0.0162\n",
      "Epoch 9/15\n",
      "165/165 [==============================] - 3s 18ms/step - loss: 0.0188 - accuracy: 0.0167 - val_loss: 0.0183 - val_accuracy: 0.0162\n",
      "Epoch 10/15\n",
      "165/165 [==============================] - 3s 18ms/step - loss: 0.0178 - accuracy: 0.0167 - val_loss: 0.0174 - val_accuracy: 0.0162\n",
      "Epoch 11/15\n",
      "165/165 [==============================] - 3s 18ms/step - loss: 0.0171 - accuracy: 0.0167 - val_loss: 0.0168 - val_accuracy: 0.0162\n",
      "Epoch 12/15\n",
      "165/165 [==============================] - 3s 21ms/step - loss: 0.0165 - accuracy: 0.0167 - val_loss: 0.0163 - val_accuracy: 0.0162\n",
      "Epoch 13/15\n",
      "165/165 [==============================] - 3s 21ms/step - loss: 0.0160 - accuracy: 0.0167 - val_loss: 0.0158 - val_accuracy: 0.0162\n",
      "Epoch 14/15\n",
      "165/165 [==============================] - 3s 21ms/step - loss: 0.0156 - accuracy: 0.0167 - val_loss: 0.0155 - val_accuracy: 0.0162\n",
      "Epoch 15/15\n",
      "165/165 [==============================] - 3s 20ms/step - loss: 0.0153 - accuracy: 0.0167 - val_loss: 0.0152 - val_accuracy: 0.0162\n"
     ]
    },
    {
     "data": {
      "text/plain": [
       "<tensorflow.python.keras.callbacks.History at 0x142ad6f10>"
      ]
     },
     "execution_count": 26,
     "metadata": {},
     "output_type": "execute_result"
    }
   ],
   "source": [
    "model.fit(X_train, Y_train, \n",
    "         batch_size = 64,\n",
    "         epochs = 15,\n",
    "         verbose = 1,\n",
    "         validation_data = (X_test, Y_test))"
   ]
  },
  {
   "cell_type": "code",
   "execution_count": 27,
   "metadata": {},
   "outputs": [
    {
     "name": "stdout",
     "output_type": "stream",
     "text": [
      "loss: 0.015172384679317474\n",
      "accuracy: 0.01622544787824154\n"
     ]
    }
   ],
   "source": [
    "score = model.evaluate(X_test, Y_test, verbose=0)\n",
    "\n",
    "print(\"loss:\", score[0])\n",
    "print(\"accuracy:\", score[1])"
   ]
  },
  {
   "cell_type": "code",
   "execution_count": null,
   "metadata": {},
   "outputs": [],
   "source": []
  }
 ],
 "metadata": {
  "kernelspec": {
   "display_name": "Python 3",
   "language": "python",
   "name": "python3"
  },
  "language_info": {
   "codemirror_mode": {
    "name": "ipython",
    "version": 3
   },
   "file_extension": ".py",
   "mimetype": "text/x-python",
   "name": "python",
   "nbconvert_exporter": "python",
   "pygments_lexer": "ipython3",
   "version": "3.7.5"
  }
 },
 "nbformat": 4,
 "nbformat_minor": 2
}
