{
 "cells": [
  {
   "cell_type": "code",
   "execution_count": 138,
   "metadata": {},
   "outputs": [],
   "source": [
    "import numpy as np"
   ]
  },
  {
   "cell_type": "code",
   "execution_count": 139,
   "metadata": {},
   "outputs": [],
   "source": [
    "X = np.load('./data/features.npy')\n",
    "Y = np.load('./data/labels.npy')"
   ]
  },
  {
   "cell_type": "code",
   "execution_count": 140,
   "metadata": {},
   "outputs": [],
   "source": [
    "from keras.utils.np_utils import to_categorical\n",
    "\n",
    "num_samples = X.shape[0]\n",
    "index=np.arange(num_samples)\n",
    "np.random.shuffle(index)\n",
    "tx = X\n",
    "ty = Y\n",
    "for i in range(num_samples):\n",
    "    X[i] = tx[index[i]]\n",
    "    Y[i] = ty[index[i]]\n",
    "\n",
    "Y = to_categorical(Y, 361)"
   ]
  },
  {
   "cell_type": "code",
   "execution_count": 141,
   "metadata": {},
   "outputs": [
    {
     "data": {
      "text/plain": [
       "(6562, 19, 19, 1)"
      ]
     },
     "execution_count": 141,
     "metadata": {},
     "output_type": "execute_result"
    }
   ],
   "source": [
    "X.shape"
   ]
  },
  {
   "cell_type": "code",
   "execution_count": 142,
   "metadata": {},
   "outputs": [
    {
     "data": {
      "text/plain": [
       "(6562, 361)"
      ]
     },
     "execution_count": 142,
     "metadata": {},
     "output_type": "execute_result"
    }
   ],
   "source": [
    "\n",
    "Y.shape"
   ]
  },
  {
   "cell_type": "code",
   "execution_count": 143,
   "metadata": {},
   "outputs": [],
   "source": [
    "board_size = 19\n",
    "input_shape = (board_size,board_size,1)\n",
    " \n",
    "\n",
    "train_num_samples = int(0.9*num_samples)\n",
    "X_train,X_test = X[:train_num_samples],X[train_num_samples:]\n",
    "Y_train,Y_test = Y[:train_num_samples],Y[train_num_samples:]"
   ]
  },
  {
   "cell_type": "code",
   "execution_count": 144,
   "metadata": {},
   "outputs": [
    {
     "name": "stdout",
     "output_type": "stream",
     "text": [
      "Model: \"sequential_21\"\n",
      "_________________________________________________________________\n",
      "Layer (type)                 Output Shape              Param #   \n",
      "=================================================================\n",
      "conv2d_29 (Conv2D)           (None, 19, 19, 32)        320       \n",
      "_________________________________________________________________\n",
      "conv2d_30 (Conv2D)           (None, 19, 19, 64)        18496     \n",
      "_________________________________________________________________\n",
      "max_pooling2d_17 (MaxPooling (None, 9, 9, 64)          0         \n",
      "_________________________________________________________________\n",
      "dropout_42 (Dropout)         (None, 9, 9, 64)          0         \n",
      "_________________________________________________________________\n",
      "flatten_16 (Flatten)         (None, 5184)              0         \n",
      "_________________________________________________________________\n",
      "dense_46 (Dense)             (None, 300)               1555500   \n",
      "_________________________________________________________________\n",
      "dropout_43 (Dropout)         (None, 300)               0         \n",
      "_________________________________________________________________\n",
      "dense_47 (Dense)             (None, 361)               108661    \n",
      "=================================================================\n",
      "Total params: 1,682,977\n",
      "Trainable params: 1,682,977\n",
      "Non-trainable params: 0\n",
      "_________________________________________________________________\n"
     ]
    }
   ],
   "source": [
    "\n",
    "model = Sequential()\n",
    "\n",
    "model.add(Conv2D(filters=32,kernel_size=(3,3),activation=\"relu\",padding='same',input_shape=input_shape))\n",
    "\n",
    "model.add(Conv2D(filters=64,kernel_size=(3,3),activation=\"relu\",padding='same'))\n",
    "\n",
    "model.add(MaxPool2D(pool_size=(2,2)))\n",
    "\n",
    "model.add(Dropout(rate=0.5))\n",
    "model.add(Flatten())\n",
    "\n",
    "model.add(Dense(300,activation=\"relu\"))\n",
    "model.add(Dropout(rate=0.5))\n",
    "model.add(Dense(board_size*board_size,activation=\"softmax\"))\n",
    "\n",
    "model.summary()\n"
   ]
  },
  {
   "cell_type": "code",
   "execution_count": 145,
   "metadata": {},
   "outputs": [],
   "source": [
    "import keras.backend as K\n",
    "from keras.callbacks import LearningRateScheduler\n",
    " \n",
    "def scheduler(epoch):\n",
    "    # 每隔100个epoch，学习率减小为原来的1/10\n",
    "    if epoch % 10 == 0 and epoch != 0:\n",
    "        lr = K.get_value(model.optimizer.lr)\n",
    "        K.set_value(model.optimizer.lr, lr * 0.5)\n",
    "        print(\"lr changed to {}\".format(lr * 0.5))\n",
    "    return K.get_value(model.optimizer.lr)\n",
    " \n",
    "reduce_lr = LearningRateScheduler(scheduler)"
   ]
  },
  {
   "cell_type": "code",
   "execution_count": 154,
   "metadata": {},
   "outputs": [
    {
     "name": "stdout",
     "output_type": "stream",
     "text": [
      "Epoch 1/80\n",
      "93/93 [==============================] - 5s 58ms/step - loss: 1.4906 - accuracy: 0.5429 - val_loss: 1.3284 - val_accuracy: 0.6728 - lr: 0.0010\n",
      "Epoch 2/80\n",
      "93/93 [==============================] - 6s 64ms/step - loss: 1.5171 - accuracy: 0.5372 - val_loss: 1.3829 - val_accuracy: 0.6560 - lr: 0.0010\n",
      "Epoch 3/80\n",
      "93/93 [==============================] - 6s 64ms/step - loss: 1.4943 - accuracy: 0.5448 - val_loss: 1.3970 - val_accuracy: 0.6621 - lr: 0.0010\n",
      "Epoch 4/80\n",
      "93/93 [==============================] - 5s 58ms/step - loss: 1.4923 - accuracy: 0.5483 - val_loss: 1.3628 - val_accuracy: 0.6849 - lr: 0.0010\n",
      "Epoch 5/80\n",
      "93/93 [==============================] - 5s 56ms/step - loss: 1.4964 - accuracy: 0.5456 - val_loss: 1.3712 - val_accuracy: 0.6454 - lr: 0.0010\n",
      "Epoch 6/80\n",
      "93/93 [==============================] - 6s 63ms/step - loss: 1.5004 - accuracy: 0.5446 - val_loss: 1.3584 - val_accuracy: 0.6651 - lr: 0.0010\n",
      "Epoch 7/80\n",
      "93/93 [==============================] - 5s 57ms/step - loss: 1.4792 - accuracy: 0.5416 - val_loss: 1.3492 - val_accuracy: 0.6667 - lr: 0.0010\n",
      "Epoch 8/80\n",
      "93/93 [==============================] - 6s 61ms/step - loss: 1.4547 - accuracy: 0.5534 - val_loss: 1.3553 - val_accuracy: 0.6865 - lr: 0.0010\n",
      "Epoch 9/80\n",
      "93/93 [==============================] - 5s 58ms/step - loss: 1.4712 - accuracy: 0.5467 - val_loss: 1.3458 - val_accuracy: 0.6636 - lr: 0.0010\n",
      "Epoch 10/80\n",
      "93/93 [==============================] - 5s 58ms/step - loss: 1.4586 - accuracy: 0.5473 - val_loss: 1.3379 - val_accuracy: 0.6621 - lr: 0.0010\n",
      "lr changed to 0.0005000000237487257\n",
      "Epoch 11/80\n",
      "93/93 [==============================] - 6s 59ms/step - loss: 1.3600 - accuracy: 0.5768 - val_loss: 1.3026 - val_accuracy: 0.7108 - lr: 5.0000e-04\n",
      "Epoch 12/80\n",
      "93/93 [==============================] - 5s 57ms/step - loss: 1.2835 - accuracy: 0.5970 - val_loss: 1.2787 - val_accuracy: 0.7154 - lr: 5.0000e-04\n",
      "Epoch 13/80\n",
      "93/93 [==============================] - 5s 59ms/step - loss: 1.2722 - accuracy: 0.6027 - val_loss: 1.2695 - val_accuracy: 0.7093 - lr: 5.0000e-04\n",
      "Epoch 14/80\n",
      "93/93 [==============================] - 6s 59ms/step - loss: 1.2550 - accuracy: 0.5968 - val_loss: 1.2848 - val_accuracy: 0.6971 - lr: 5.0000e-04\n",
      "Epoch 15/80\n",
      "93/93 [==============================] - 6s 66ms/step - loss: 1.2818 - accuracy: 0.5873 - val_loss: 1.2728 - val_accuracy: 0.7199 - lr: 5.0000e-04\n",
      "Epoch 16/80\n",
      "93/93 [==============================] - 6s 63ms/step - loss: 1.2647 - accuracy: 0.5980 - val_loss: 1.2577 - val_accuracy: 0.7215 - lr: 5.0000e-04\n",
      "Epoch 17/80\n",
      "93/93 [==============================] - 6s 62ms/step - loss: 1.2294 - accuracy: 0.6017 - val_loss: 1.2478 - val_accuracy: 0.7534 - lr: 5.0000e-04\n",
      "Epoch 18/80\n",
      "93/93 [==============================] - 7s 80ms/step - loss: 1.2369 - accuracy: 0.6032 - val_loss: 1.2707 - val_accuracy: 0.7306 - lr: 5.0000e-04\n",
      "Epoch 19/80\n",
      "93/93 [==============================] - 6s 62ms/step - loss: 1.2192 - accuracy: 0.6047 - val_loss: 1.2523 - val_accuracy: 0.7154 - lr: 5.0000e-04\n",
      "Epoch 20/80\n",
      "93/93 [==============================] - 5s 55ms/step - loss: 1.1969 - accuracy: 0.6091 - val_loss: 1.2469 - val_accuracy: 0.7412 - lr: 5.0000e-04\n",
      "lr changed to 0.0002500000118743628\n",
      "Epoch 21/80\n",
      "93/93 [==============================] - 5s 55ms/step - loss: 1.1828 - accuracy: 0.6183 - val_loss: 1.2259 - val_accuracy: 0.7549 - lr: 2.5000e-04\n",
      "Epoch 22/80\n",
      "93/93 [==============================] - 5s 55ms/step - loss: 1.1594 - accuracy: 0.6315 - val_loss: 1.2232 - val_accuracy: 0.7443 - lr: 2.5000e-04\n",
      "Epoch 23/80\n",
      "93/93 [==============================] - 5s 55ms/step - loss: 1.1649 - accuracy: 0.6235 - val_loss: 1.2245 - val_accuracy: 0.7504 - lr: 2.5000e-04\n",
      "Epoch 24/80\n",
      "93/93 [==============================] - 5s 55ms/step - loss: 1.1423 - accuracy: 0.6303 - val_loss: 1.2290 - val_accuracy: 0.7549 - lr: 2.5000e-04\n",
      "Epoch 25/80\n",
      "93/93 [==============================] - 5s 55ms/step - loss: 1.1192 - accuracy: 0.6367 - val_loss: 1.2213 - val_accuracy: 0.7489 - lr: 2.5000e-04\n",
      "Epoch 26/80\n",
      "93/93 [==============================] - 5s 55ms/step - loss: 1.1181 - accuracy: 0.6320 - val_loss: 1.2163 - val_accuracy: 0.7580 - lr: 2.5000e-04\n",
      "Epoch 27/80\n",
      "93/93 [==============================] - 5s 56ms/step - loss: 1.1392 - accuracy: 0.6244 - val_loss: 1.2160 - val_accuracy: 0.7595 - lr: 2.5000e-04\n",
      "Epoch 28/80\n",
      "93/93 [==============================] - 5s 56ms/step - loss: 1.0897 - accuracy: 0.6425 - val_loss: 1.2069 - val_accuracy: 0.7549 - lr: 2.5000e-04\n",
      "Epoch 29/80\n",
      "93/93 [==============================] - 5s 56ms/step - loss: 1.1071 - accuracy: 0.6376 - val_loss: 1.2005 - val_accuracy: 0.7549 - lr: 2.5000e-04\n",
      "Epoch 30/80\n",
      "93/93 [==============================] - 5s 55ms/step - loss: 1.0818 - accuracy: 0.6503 - val_loss: 1.2025 - val_accuracy: 0.7580 - lr: 2.5000e-04\n",
      "lr changed to 0.0001250000059371814\n",
      "Epoch 31/80\n",
      "93/93 [==============================] - 6s 60ms/step - loss: 1.0980 - accuracy: 0.6427 - val_loss: 1.2020 - val_accuracy: 0.7656 - lr: 1.2500e-04\n",
      "Epoch 32/80\n",
      "93/93 [==============================] - 5s 56ms/step - loss: 1.0876 - accuracy: 0.6434 - val_loss: 1.1932 - val_accuracy: 0.7595 - lr: 1.2500e-04\n",
      "Epoch 33/80\n",
      "93/93 [==============================] - 5s 56ms/step - loss: 1.0740 - accuracy: 0.6418 - val_loss: 1.1866 - val_accuracy: 0.7534 - lr: 1.2500e-04\n",
      "Epoch 34/80\n",
      "93/93 [==============================] - 5s 54ms/step - loss: 1.0897 - accuracy: 0.6417 - val_loss: 1.1870 - val_accuracy: 0.7610 - lr: 1.2500e-04\n",
      "Epoch 35/80\n",
      "93/93 [==============================] - 5s 54ms/step - loss: 1.0380 - accuracy: 0.6555 - val_loss: 1.1857 - val_accuracy: 0.7656 - lr: 1.2500e-04\n",
      "Epoch 36/80\n",
      "93/93 [==============================] - 5s 54ms/step - loss: 1.0605 - accuracy: 0.6359 - val_loss: 1.1904 - val_accuracy: 0.7702 - lr: 1.2500e-04\n",
      "Epoch 37/80\n",
      "93/93 [==============================] - 5s 56ms/step - loss: 1.0654 - accuracy: 0.6513 - val_loss: 1.1871 - val_accuracy: 0.7595 - lr: 1.2500e-04\n",
      "Epoch 38/80\n",
      "93/93 [==============================] - 5s 56ms/step - loss: 1.0577 - accuracy: 0.6554 - val_loss: 1.1835 - val_accuracy: 0.7702 - lr: 1.2500e-04\n",
      "Epoch 39/80\n",
      "93/93 [==============================] - 5s 55ms/step - loss: 1.0401 - accuracy: 0.6525 - val_loss: 1.1847 - val_accuracy: 0.7747 - lr: 1.2500e-04\n",
      "Epoch 40/80\n",
      "93/93 [==============================] - 5s 55ms/step - loss: 1.0314 - accuracy: 0.6640 - val_loss: 1.1844 - val_accuracy: 0.7808 - lr: 1.2500e-04\n",
      "lr changed to 6.25000029685907e-05\n",
      "Epoch 41/80\n",
      "93/93 [==============================] - 5s 55ms/step - loss: 1.0482 - accuracy: 0.6571 - val_loss: 1.1839 - val_accuracy: 0.7793 - lr: 6.2500e-05\n",
      "Epoch 42/80\n",
      "93/93 [==============================] - 5s 56ms/step - loss: 1.0202 - accuracy: 0.6696 - val_loss: 1.1829 - val_accuracy: 0.7793 - lr: 6.2500e-05\n",
      "Epoch 43/80\n",
      "93/93 [==============================] - 5s 56ms/step - loss: 1.0441 - accuracy: 0.6554 - val_loss: 1.1794 - val_accuracy: 0.7793 - lr: 6.2500e-05\n",
      "Epoch 44/80\n",
      "93/93 [==============================] - 5s 55ms/step - loss: 1.0164 - accuracy: 0.6618 - val_loss: 1.1802 - val_accuracy: 0.7778 - lr: 6.2500e-05\n",
      "Epoch 45/80\n",
      "93/93 [==============================] - 5s 57ms/step - loss: 1.0430 - accuracy: 0.6513 - val_loss: 1.1794 - val_accuracy: 0.7732 - lr: 6.2500e-05\n",
      "Epoch 46/80\n",
      "93/93 [==============================] - 7s 75ms/step - loss: 1.0351 - accuracy: 0.6605 - val_loss: 1.1762 - val_accuracy: 0.7747 - lr: 6.2500e-05\n",
      "Epoch 47/80\n",
      "93/93 [==============================] - 5s 59ms/step - loss: 1.0291 - accuracy: 0.6574 - val_loss: 1.1750 - val_accuracy: 0.7763 - lr: 6.2500e-05\n",
      "Epoch 48/80\n",
      "93/93 [==============================] - 5s 57ms/step - loss: 0.9981 - accuracy: 0.6684 - val_loss: 1.1781 - val_accuracy: 0.7747 - lr: 6.2500e-05\n",
      "Epoch 49/80\n",
      "93/93 [==============================] - 6s 70ms/step - loss: 1.0270 - accuracy: 0.6735 - val_loss: 1.1764 - val_accuracy: 0.7793 - lr: 6.2500e-05\n",
      "Epoch 50/80\n",
      "93/93 [==============================] - 7s 73ms/step - loss: 1.0289 - accuracy: 0.6533 - val_loss: 1.1768 - val_accuracy: 0.7793 - lr: 6.2500e-05\n",
      "lr changed to 3.125000148429535e-05\n",
      "Epoch 51/80\n",
      "93/93 [==============================] - 5s 58ms/step - loss: 0.9949 - accuracy: 0.6672 - val_loss: 1.1774 - val_accuracy: 0.7763 - lr: 3.1250e-05\n"
     ]
    },
    {
     "name": "stdout",
     "output_type": "stream",
     "text": [
      "Epoch 52/80\n",
      "93/93 [==============================] - 6s 62ms/step - loss: 1.0113 - accuracy: 0.6679 - val_loss: 1.1768 - val_accuracy: 0.7778 - lr: 3.1250e-05\n",
      "Epoch 53/80\n",
      "93/93 [==============================] - 5s 57ms/step - loss: 1.0178 - accuracy: 0.6622 - val_loss: 1.1759 - val_accuracy: 0.7839 - lr: 3.1250e-05\n",
      "Epoch 54/80\n",
      "93/93 [==============================] - 6s 62ms/step - loss: 1.0098 - accuracy: 0.6657 - val_loss: 1.1741 - val_accuracy: 0.7900 - lr: 3.1250e-05\n",
      "Epoch 55/80\n",
      "93/93 [==============================] - 7s 71ms/step - loss: 1.0034 - accuracy: 0.6625 - val_loss: 1.1748 - val_accuracy: 0.7884 - lr: 3.1250e-05\n",
      "Epoch 56/80\n",
      "93/93 [==============================] - 6s 63ms/step - loss: 1.0125 - accuracy: 0.6676 - val_loss: 1.1727 - val_accuracy: 0.7854 - lr: 3.1250e-05\n",
      "Epoch 57/80\n",
      "93/93 [==============================] - 7s 70ms/step - loss: 0.9996 - accuracy: 0.6698 - val_loss: 1.1728 - val_accuracy: 0.7854 - lr: 3.1250e-05\n",
      "Epoch 58/80\n",
      "93/93 [==============================] - 6s 64ms/step - loss: 0.9974 - accuracy: 0.6671 - val_loss: 1.1733 - val_accuracy: 0.7839 - lr: 3.1250e-05\n",
      "Epoch 59/80\n",
      "93/93 [==============================] - 6s 65ms/step - loss: 1.0024 - accuracy: 0.6623 - val_loss: 1.1734 - val_accuracy: 0.7884 - lr: 3.1250e-05\n",
      "Epoch 60/80\n",
      "93/93 [==============================] - 6s 64ms/step - loss: 1.0148 - accuracy: 0.6635 - val_loss: 1.1727 - val_accuracy: 0.7915 - lr: 3.1250e-05\n",
      "lr changed to 1.5625000742147677e-05\n",
      "Epoch 61/80\n",
      "93/93 [==============================] - 6s 62ms/step - loss: 1.0013 - accuracy: 0.6767 - val_loss: 1.1717 - val_accuracy: 0.7884 - lr: 1.5625e-05\n",
      "Epoch 62/80\n",
      "93/93 [==============================] - 5s 59ms/step - loss: 0.9815 - accuracy: 0.6711 - val_loss: 1.1711 - val_accuracy: 0.7930 - lr: 1.5625e-05\n",
      "Epoch 63/80\n",
      "93/93 [==============================] - 6s 63ms/step - loss: 1.0216 - accuracy: 0.6611 - val_loss: 1.1717 - val_accuracy: 0.7915 - lr: 1.5625e-05\n",
      "Epoch 64/80\n",
      "93/93 [==============================] - 6s 60ms/step - loss: 1.0207 - accuracy: 0.6684 - val_loss: 1.1706 - val_accuracy: 0.7884 - lr: 1.5625e-05\n",
      "Epoch 65/80\n",
      "93/93 [==============================] - 6s 63ms/step - loss: 1.0004 - accuracy: 0.6693 - val_loss: 1.1704 - val_accuracy: 0.7869 - lr: 1.5625e-05\n",
      "Epoch 66/80\n",
      "93/93 [==============================] - 6s 64ms/step - loss: 1.0087 - accuracy: 0.6630 - val_loss: 1.1711 - val_accuracy: 0.7869 - lr: 1.5625e-05\n",
      "Epoch 67/80\n",
      "93/93 [==============================] - 6s 60ms/step - loss: 1.0095 - accuracy: 0.6677 - val_loss: 1.1709 - val_accuracy: 0.7854 - lr: 1.5625e-05\n",
      "Epoch 68/80\n",
      "93/93 [==============================] - 5s 57ms/step - loss: 1.0242 - accuracy: 0.6637 - val_loss: 1.1700 - val_accuracy: 0.7869 - lr: 1.5625e-05\n",
      "Epoch 69/80\n",
      "93/93 [==============================] - 6s 67ms/step - loss: 1.0023 - accuracy: 0.6627 - val_loss: 1.1700 - val_accuracy: 0.7884 - lr: 1.5625e-05\n",
      "Epoch 70/80\n",
      "93/93 [==============================] - 6s 66ms/step - loss: 0.9843 - accuracy: 0.6782 - val_loss: 1.1699 - val_accuracy: 0.7869 - lr: 1.5625e-05\n",
      "lr changed to 7.812500371073838e-06\n",
      "Epoch 71/80\n",
      "93/93 [==============================] - 7s 74ms/step - loss: 0.9894 - accuracy: 0.6759 - val_loss: 1.1692 - val_accuracy: 0.7869 - lr: 7.8125e-06\n",
      "Epoch 72/80\n",
      "93/93 [==============================] - 6s 65ms/step - loss: 0.9871 - accuracy: 0.6771 - val_loss: 1.1691 - val_accuracy: 0.7869 - lr: 7.8125e-06\n",
      "Epoch 73/80\n",
      "93/93 [==============================] - 7s 71ms/step - loss: 0.9794 - accuracy: 0.6772 - val_loss: 1.1691 - val_accuracy: 0.7869 - lr: 7.8125e-06\n",
      "Epoch 74/80\n",
      "93/93 [==============================] - 5s 55ms/step - loss: 1.0012 - accuracy: 0.6659 - val_loss: 1.1690 - val_accuracy: 0.7869 - lr: 7.8125e-06\n",
      "Epoch 75/80\n",
      "93/93 [==============================] - 6s 64ms/step - loss: 0.9815 - accuracy: 0.6755 - val_loss: 1.1687 - val_accuracy: 0.7869 - lr: 7.8125e-06\n",
      "Epoch 76/80\n",
      "93/93 [==============================] - 6s 66ms/step - loss: 0.9785 - accuracy: 0.6708 - val_loss: 1.1691 - val_accuracy: 0.7854 - lr: 7.8125e-06\n",
      "Epoch 77/80\n",
      "93/93 [==============================] - 6s 66ms/step - loss: 0.9988 - accuracy: 0.6725 - val_loss: 1.1689 - val_accuracy: 0.7884 - lr: 7.8125e-06\n",
      "Epoch 78/80\n",
      "93/93 [==============================] - 6s 63ms/step - loss: 0.9782 - accuracy: 0.6711 - val_loss: 1.1691 - val_accuracy: 0.7854 - lr: 7.8125e-06\n",
      "Epoch 79/80\n",
      "93/93 [==============================] - 6s 62ms/step - loss: 0.9961 - accuracy: 0.6735 - val_loss: 1.1689 - val_accuracy: 0.7900 - lr: 7.8125e-06\n",
      "Epoch 80/80\n",
      "93/93 [==============================] - 6s 59ms/step - loss: 0.9933 - accuracy: 0.6674 - val_loss: 1.1685 - val_accuracy: 0.7900 - lr: 7.8125e-06\n",
      "21/21 [==============================] - 0s 7ms/step - loss: 1.1685 - accuracy: 0.7900\n",
      "loss: 1.1685090065002441\n",
      "accuracy: 0.7899543642997742\n"
     ]
    }
   ],
   "source": [
    "model.compile(optimizer=\"adam\",loss=\"categorical_crossentropy\",metrics=[\"accuracy\"])\n",
    "\n",
    "\n",
    "history = model.fit(X_train,Y_train,batch_size=64,epochs=80,verbose=1,validation_data=(X_test,Y_test), callbacks=[reduce_lr])\n",
    "\n",
    "score = model.evaluate(X_test,Y_test,verbose=1)\n",
    "\n",
    "print(\"loss:\",score[0])\n",
    "print(\"accuracy:\",score[1])"
   ]
  },
  {
   "cell_type": "code",
   "execution_count": 155,
   "metadata": {},
   "outputs": [
    {
     "data": {
      "image/png": "[encoded data removed]",
      "text/plain": [
       "<Figure size 432x288 with 1 Axes>"
      ]
     },
     "metadata": {
      "needs_background": "light"
     },
     "output_type": "display_data"
    }
   ],
   "source": [
    "import matplotlib.pyplot as plt\n",
    "epochs = len(history.history['loss'])\n",
    "plt.plot(range(epochs), history.history['accuracy'], label='acc')\n",
    "plt.plot(range(epochs), history.history['val_accuracy'], label='val_acc')\n",
    "#plt.plot(range(epochs), history.history['loss'], label='loss')\n",
    "#plt.plot(range(epochs), history.history['val_loss'], label='val_loss')\n",
    "plt.legend()\n",
    "plt.show()\n"
   ]
  },
  {
   "cell_type": "code",
   "execution_count": null,
   "metadata": {},
   "outputs": [],
   "source": []
  }
 ],
 "metadata": {
  "kernelspec": {
   "display_name": "Python 3",
   "language": "python",
   "name": "python3"
  },
  "language_info": {
   "codemirror_mode": {
    "name": "ipython",
    "version": 3
   },
   "file_extension": ".py",
   "mimetype": "text/x-python",
   "name": "python",
   "nbconvert_exporter": "python",
   "pygments_lexer": "ipython3",
   "version": "3.7.5"
  }
 },
 "nbformat": 4,
 "nbformat_minor": 2
}
